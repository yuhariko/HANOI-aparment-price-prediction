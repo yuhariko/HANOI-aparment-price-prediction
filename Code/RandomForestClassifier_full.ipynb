{
 "cells": [
  {
   "cell_type": "code",
   "execution_count": 1,
   "id": "YNhQ5WVhN3KU",
   "metadata": {
    "colab": {
     "base_uri": "https://localhost:8080/"
    },
    "id": "YNhQ5WVhN3KU",
    "outputId": "66566f19-5417-4915-de3b-9ebb0f48cd39"
   },
   "outputs": [
    {
     "name": "stdout",
     "output_type": "stream",
     "text": [
      "Mounted at /content/drive\n"
     ]
    }
   ],
   "source": [
    "from google.colab import drive\n",
    "drive.mount('/content/drive')"
   ]
  },
  {
   "cell_type": "code",
   "execution_count": 2,
   "id": "6e90bed7",
   "metadata": {
    "id": "6e90bed7"
   },
   "outputs": [],
   "source": [
    "import pandas as pd\n",
    "import numpy as np\n",
    "from matplotlib import pyplot as plt\n",
    "\n",
    "from sklearn import preprocessing\n",
    "from sklearn.ensemble import RandomForestClassifier\n",
    "from sklearn.model_selection import train_test_split\n",
    "from sklearn.metrics import f1_score, recall_score, precision_score, accuracy_score\n",
    "\n",
    "from yellowbrick.features import Rank1D\n",
    "\n",
    "from tqdm import tqdm\n",
    "\n",
    "from imblearn.over_sampling import ADASYN, SMOTE\n",
    "from imblearn.combine import SMOTETomek"
   ]
  },
  {
   "cell_type": "code",
   "execution_count": 3,
   "id": "29919eee",
   "metadata": {
    "id": "29919eee"
   },
   "outputs": [],
   "source": [
    "df = pd.read_csv('/content/drive/MyDrive/data_extracted.csv')"
   ]
  },
  {
   "cell_type": "code",
   "execution_count": 4,
   "id": "5bc4592b",
   "metadata": {
    "id": "5bc4592b"
   },
   "outputs": [],
   "source": [
    "bins = [0, 10,15,20,25, 30, 40, 50, 60, 70, 80, 90, 100,120,400]\n",
    "df['price'] = pd.cut(df['price'], bins, labels=False)"
   ]
  },
  {
   "cell_type": "code",
   "execution_count": 5,
   "id": "c08ca139",
   "metadata": {
    "id": "c08ca139"
   },
   "outputs": [],
   "source": [
    "#chuyen du lieu category ve numeric\n",
    "columns = ['polistic', 'furniture', 'district', 'house_direct', 'balcony_direct']\n",
    "for column in columns:\n",
    "    le = preprocessing.LabelEncoder()\n",
    "    df[column] = le.fit_transform(df[column])"
   ]
  },
  {
   "cell_type": "code",
   "execution_count": null,
   "id": "n5RNp4Q6HzVf",
   "metadata": {
    "colab": {
     "base_uri": "https://localhost:8080/",
     "height": 414
    },
    "id": "n5RNp4Q6HzVf",
    "outputId": "e8bbc5e2-50b0-4f04-d218-e6f4ad18ff1e"
   },
   "outputs": [
    {
     "name": "stderr",
     "output_type": "stream",
     "text": [
      "/usr/local/lib/python3.8/dist-packages/scipy/stats/morestats.py:1760: UserWarning: p-value may not be accurate for N > 5000.\n",
      "  warnings.warn(\"p-value may not be accurate for N > 5000.\")\n"
     ]
    },
    {
     "data": {
      "image/png": "[encoded data removed]",
      "text/plain": [
       "<Figure size 576x396 with 1 Axes>"
      ]
     },
     "metadata": {},
     "output_type": "display_data"
    },
    {
     "data": {
      "text/plain": [
       "<matplotlib.axes._subplots.AxesSubplot at 0x7fa44ebfeaf0>"
      ]
     },
     "execution_count": 54,
     "metadata": {},
     "output_type": "execute_result"
    }
   ],
   "source": [
    "visualizer = Rank1D(algorithm='shapiro')\n",
    "X = df[df.columns[0:13]]\n",
    "y = df[df.columns[-1:]]\n",
    "visualizer.fit(X, y)\n",
    "visualizer.transform(X)\n",
    "visualizer.show()"
   ]
  },
  {
   "cell_type": "code",
   "execution_count": 9,
   "id": "4d46593e",
   "metadata": {
    "id": "4d46593e"
   },
   "outputs": [],
   "source": [
    "from sklearn.utils import resample\n",
    "\n",
    "# Get the unique class labels\n",
    "class_labels = df.price.unique()\n",
    "\n",
    "# Create a list to store the oversampled dataframes\n",
    "data_oversampled = []\n",
    "\n",
    "# Loop over each class label\n",
    "for label in class_labels:\n",
    "    # Separate majority and minority classes\n",
    "    data_majority = df[df.price!=label]\n",
    "    data_minority = df[df.price==label]\n",
    " \n",
    "    # Upsample minority class\n",
    "    data_minority_upsampled = resample(data_minority, \n",
    "                                     replace=True,     # sample with replacement\n",
    "                                     n_samples=len(data_majority),    # to match majority class\n",
    "                                     random_state=123) # reproducible results\n",
    " \n",
    "    # Combine majority class with upsampled minority class\n",
    "    data_upsampled = pd.concat([data_majority, data_minority_upsampled])\n",
    "    \n",
    "    # Add the oversampled dataframe to the list\n",
    "    data_oversampled.append(data_upsampled)\n",
    "\n",
    "# Concatenate all the oversampled dataframes\n",
    "data_oversampled = pd.concat(data_oversampled)"
   ]
  },
  {
   "cell_type": "code",
   "execution_count": 10,
   "id": "dd044c63",
   "metadata": {
    "id": "dd044c63"
   },
   "outputs": [],
   "source": [
    "data = data_oversampled.values\n",
    "#data = df.values\n",
    "X, y = data[:,:-1], data[:,-1]\n",
    "\n",
    "X_train, X_rem, y_train, y_rem = train_test_split(X,y, train_size=0.8)\n",
    "\n",
    "X_valid, X_test, y_valid, y_test = train_test_split(X_rem,y_rem, test_size=0.5)"
   ]
  },
  {
   "cell_type": "code",
   "execution_count": 11,
   "id": "04ccd17c",
   "metadata": {
    "colab": {
     "base_uri": "https://localhost:8080/"
    },
    "id": "04ccd17c",
    "outputId": "fbc3269f-7336-458f-abbb-80e9f9d4d505",
    "scrolled": true
   },
   "outputs": [
    {
     "data": {
      "text/plain": [
       "RandomForestClassifier(criterion='entropy', n_estimators=150)"
      ]
     },
     "execution_count": 11,
     "metadata": {},
     "output_type": "execute_result"
    }
   ],
   "source": [
    "rf = RandomForestClassifier(criterion='entropy', n_estimators=150)\n",
    "rf.fit(X_train, y_train)"
   ]
  },
  {
   "cell_type": "code",
   "execution_count": 12,
   "id": "9fd1a9d8",
   "metadata": {
    "colab": {
     "base_uri": "https://localhost:8080/"
    },
    "id": "9fd1a9d8",
    "outputId": "042740e8-73dc-4eaf-ad8e-9c3b1115c24d",
    "scrolled": false
   },
   "outputs": [
    {
     "name": "stdout",
     "output_type": "stream",
     "text": [
      "train acc:0.9719158231169654\n",
      "test acc:0.9704981277658005\n",
      "f1 score:0.9728324051941983\n",
      "recall score:0.9742950177688212\n",
      "precision score:0.9714925776026198\n"
     ]
    }
   ],
   "source": [
    "print(\"train acc:\" + str(rf.score(X_train, y_train)))\n",
    "print(\"test acc:\" + str(rf.score(X_test, y_test)))\n",
    "print(\"f1 score:\" + str(f1_score(y_test, rf.predict(X_test), average=\"macro\")))\n",
    "print(\"recall score:\" + str(recall_score(y_test, rf.predict(X_test), average=\"macro\")))\n",
    "print(\"precision score:\" + str(precision_score(y_test, rf.predict(X_test), average=\"macro\")))"
   ]
  },
  {
   "cell_type": "markdown",
   "id": "9f4c5481",
   "metadata": {
    "id": "9f4c5481"
   },
   "source": [
    "## model selection"
   ]
  },
  {
   "cell_type": "code",
   "execution_count": null,
   "id": "c7c4c01c",
   "metadata": {
    "id": "c7c4c01c"
   },
   "outputs": [],
   "source": [
    "def cross_validation(estimator):\n",
    "    _, train_scores, test_scores = learning_curve(estimator, X_valid, y_valid, cv=10, n_jobs=-1, train_sizes=[1.0, ], scoring=\"accuracy\")\n",
    "    test_scores = test_scores[0]\n",
    "    mean, std = test_scores.mean(), test_scores.std()\n",
    "    return mean, std\n",
    "\n",
    "def plot(title, xlabel, X, Y, error, ylabel = \"Accuracy\"):\n",
    "    plt.xlabel(xlabel)\n",
    "    plt.title(title)\n",
    "    plt.grid()\n",
    "    plt.ylabel(ylabel)\n",
    "    \n",
    "    plt.errorbar(X, Y, error, linestyle='None', marker='o')"
   ]
  },
  {
   "cell_type": "code",
   "execution_count": null,
   "id": "94d4c0f0",
   "metadata": {
    "colab": {
     "base_uri": "https://localhost:8080/",
     "height": 313
    },
    "id": "94d4c0f0",
    "outputId": "61293e5e-7791-4cc1-998e-61caf8968e4c"
   },
   "outputs": [
    {
     "name": "stderr",
     "output_type": "stream",
     "text": [
      "100%|██████████| 3/3 [00:31<00:00, 10.52s/it]\n"
     ]
    },
    {
     "data": {
      "image/png": "[encoded data removed]",
      "text/plain": [
       "<Figure size 432x288 with 1 Axes>"
      ]
     },
     "metadata": {
      "needs_background": "light"
     },
     "output_type": "display_data"
    }
   ],
   "source": [
    "title = \"thay đổi criterion, n_estimators = 100\"\n",
    "xlabel = \"criterion\"\n",
    "X = []\n",
    "Y = []\n",
    "error = []\n",
    "\n",
    "for criterion in tqdm([\"gini\", \"entropy\"]):\n",
    "    text_clf = RandomForestClassifier(criterion=criterion, n_estimators=100)\n",
    "    mean, std = cross_validation(text_clf)\n",
    "    X.append(str(criterion))\n",
    "    Y.append(mean)\n",
    "    error.append(std)\n",
    "\n",
    "plot(title, xlabel, X, Y, error)\n",
    "plt.show()"
   ]
  },
  {
   "cell_type": "code",
   "execution_count": null,
   "id": "e79a9584",
   "metadata": {
    "colab": {
     "base_uri": "https://localhost:8080/",
     "height": 314
    },
    "id": "e79a9584",
    "outputId": "050f0e91-a1c3-41c1-dccd-cb9d84e2e5d1"
   },
   "outputs": [
    {
     "name": "stderr",
     "output_type": "stream",
     "text": [
      "100%|██████████| 3/3 [00:52<00:00, 17.49s/it]\n"
     ]
    },
    {
     "data": {
      "image/png": "[encoded data removed]",
      "text/plain": [
       "<Figure size 432x288 with 1 Axes>"
      ]
     },
     "metadata": {
      "needs_background": "light"
     },
     "output_type": "display_data"
    }
   ],
   "source": [
    "title = \"thay đổi n_estimators, criterion = entropy\"\n",
    "xlabel = \"n_estimators\"\n",
    "X = []\n",
    "Y = []\n",
    "error = []\n",
    "\n",
    "for i in tqdm([50,100,150]):\n",
    "    text_clf = RandomForestClassifier(criterion='entropy', n_estimators=i)\n",
    "    mean, std = cross_validation(text_clf)\n",
    "    X.append(str(i))\n",
    "    Y.append(mean)\n",
    "    error.append(std)\n",
    "plot(title, xlabel, X, Y, error)\n",
    "plt.show()"
   ]
  }
 ],
 "metadata": {
  "accelerator": "GPU",
  "colab": {
   "provenance": []
  },
  "gpuClass": "standard",
  "kernelspec": {
   "display_name": "Python 3 (ipykernel)",
   "language": "python",
   "name": "python3"
  },
  "language_info": {
   "codemirror_mode": {
    "name": "ipython",
    "version": 3
   },
   "file_extension": ".py",
   "mimetype": "text/x-python",
   "name": "python",
   "nbconvert_exporter": "python",
   "pygments_lexer": "ipython3",
   "version": "3.9.5"
  }
 },
 "nbformat": 4,
 "nbformat_minor": 5
}
